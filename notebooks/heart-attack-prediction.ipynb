{
 "cells": [
  {
   "cell_type": "markdown",
   "id": "b8e57922",
   "metadata": {},
   "source": [
    "# Heart Attack Prediction\n",
    "The goal of this project is to predict whether a patient is at risk of a heart attack or not.  \n",
    "The data was sourced from Kaggle and can be found [here](https://www.kaggle.com/rashikrahmanpritom/heart-attack-analysis-prediction-dataset).  "
   ]
  },
  {
   "cell_type": "code",
   "execution_count": 6,
   "id": "0b28968f",
   "metadata": {},
   "outputs": [
    {
     "name": "stdout",
     "output_type": "stream",
     "text": [
      "Imports successful\n"
     ]
    }
   ],
   "source": [
    "import pandas as pd\n",
    "import os\n",
    "from os import path\n",
    "import seaborn as sns\n",
    "\n",
    "import matplotlib.pyplot as plt\n",
    "%matplotlib inline\n",
    "print('Imports successful')"
   ]
  },
  {
   "cell_type": "markdown",
   "id": "09d8685b",
   "metadata": {},
   "source": [
    "## Load in the Data"
   ]
  },
  {
   "cell_type": "code",
   "execution_count": 7,
   "id": "92de0bb6",
   "metadata": {},
   "outputs": [],
   "source": [
    "file_path = path.dirname(os.getcwd()) + '/input/heart.csv'\n",
    "data = pd.read_csv(file_path)"
   ]
  },
  {
   "cell_type": "code",
   "execution_count": 8,
   "id": "d58bc396",
   "metadata": {},
   "outputs": [
    {
     "data": {
      "text/html": [
       "<div>\n",
       "<style scoped>\n",
       "    .dataframe tbody tr th:only-of-type {\n",
       "        vertical-align: middle;\n",
       "    }\n",
       "\n",
       "    .dataframe tbody tr th {\n",
       "        vertical-align: top;\n",
       "    }\n",
       "\n",
       "    .dataframe thead th {\n",
       "        text-align: right;\n",
       "    }\n",
       "</style>\n",
       "<table border=\"1\" class=\"dataframe\">\n",
       "  <thead>\n",
       "    <tr style=\"text-align: right;\">\n",
       "      <th></th>\n",
       "      <th>age</th>\n",
       "      <th>sex</th>\n",
       "      <th>cp</th>\n",
       "      <th>trtbps</th>\n",
       "      <th>chol</th>\n",
       "      <th>fbs</th>\n",
       "      <th>restecg</th>\n",
       "      <th>thalachh</th>\n",
       "      <th>exng</th>\n",
       "      <th>oldpeak</th>\n",
       "      <th>slp</th>\n",
       "      <th>caa</th>\n",
       "      <th>thall</th>\n",
       "      <th>output</th>\n",
       "    </tr>\n",
       "  </thead>\n",
       "  <tbody>\n",
       "    <tr>\n",
       "      <th>0</th>\n",
       "      <td>63</td>\n",
       "      <td>1</td>\n",
       "      <td>3</td>\n",
       "      <td>145</td>\n",
       "      <td>233</td>\n",
       "      <td>1</td>\n",
       "      <td>0</td>\n",
       "      <td>150</td>\n",
       "      <td>0</td>\n",
       "      <td>2.3</td>\n",
       "      <td>0</td>\n",
       "      <td>0</td>\n",
       "      <td>1</td>\n",
       "      <td>1</td>\n",
       "    </tr>\n",
       "    <tr>\n",
       "      <th>1</th>\n",
       "      <td>37</td>\n",
       "      <td>1</td>\n",
       "      <td>2</td>\n",
       "      <td>130</td>\n",
       "      <td>250</td>\n",
       "      <td>0</td>\n",
       "      <td>1</td>\n",
       "      <td>187</td>\n",
       "      <td>0</td>\n",
       "      <td>3.5</td>\n",
       "      <td>0</td>\n",
       "      <td>0</td>\n",
       "      <td>2</td>\n",
       "      <td>1</td>\n",
       "    </tr>\n",
       "    <tr>\n",
       "      <th>2</th>\n",
       "      <td>41</td>\n",
       "      <td>0</td>\n",
       "      <td>1</td>\n",
       "      <td>130</td>\n",
       "      <td>204</td>\n",
       "      <td>0</td>\n",
       "      <td>0</td>\n",
       "      <td>172</td>\n",
       "      <td>0</td>\n",
       "      <td>1.4</td>\n",
       "      <td>2</td>\n",
       "      <td>0</td>\n",
       "      <td>2</td>\n",
       "      <td>1</td>\n",
       "    </tr>\n",
       "    <tr>\n",
       "      <th>3</th>\n",
       "      <td>56</td>\n",
       "      <td>1</td>\n",
       "      <td>1</td>\n",
       "      <td>120</td>\n",
       "      <td>236</td>\n",
       "      <td>0</td>\n",
       "      <td>1</td>\n",
       "      <td>178</td>\n",
       "      <td>0</td>\n",
       "      <td>0.8</td>\n",
       "      <td>2</td>\n",
       "      <td>0</td>\n",
       "      <td>2</td>\n",
       "      <td>1</td>\n",
       "    </tr>\n",
       "    <tr>\n",
       "      <th>4</th>\n",
       "      <td>57</td>\n",
       "      <td>0</td>\n",
       "      <td>0</td>\n",
       "      <td>120</td>\n",
       "      <td>354</td>\n",
       "      <td>0</td>\n",
       "      <td>1</td>\n",
       "      <td>163</td>\n",
       "      <td>1</td>\n",
       "      <td>0.6</td>\n",
       "      <td>2</td>\n",
       "      <td>0</td>\n",
       "      <td>2</td>\n",
       "      <td>1</td>\n",
       "    </tr>\n",
       "  </tbody>\n",
       "</table>\n",
       "</div>"
      ],
      "text/plain": [
       "   age  sex  cp  trtbps  chol  fbs  restecg  thalachh  exng  oldpeak  slp  \\\n",
       "0   63    1   3     145   233    1        0       150     0      2.3    0   \n",
       "1   37    1   2     130   250    0        1       187     0      3.5    0   \n",
       "2   41    0   1     130   204    0        0       172     0      1.4    2   \n",
       "3   56    1   1     120   236    0        1       178     0      0.8    2   \n",
       "4   57    0   0     120   354    0        1       163     1      0.6    2   \n",
       "\n",
       "   caa  thall  output  \n",
       "0    0      1       1  \n",
       "1    0      2       1  \n",
       "2    0      2       1  \n",
       "3    0      2       1  \n",
       "4    0      2       1  "
      ]
     },
     "execution_count": 8,
     "metadata": {},
     "output_type": "execute_result"
    }
   ],
   "source": [
    "data.head()"
   ]
  },
  {
   "cell_type": "markdown",
   "id": "ec795b7a",
   "metadata": {},
   "source": [
    "## Features in the Data\n",
    "- age : Age of the patient\n",
    "- sex : Sex of the patient\n",
    "- cp : Chest Pain type chest pain type\n",
    "  - Value 1: Typical angina\n",
    "  - Value 2: Atypical angina\n",
    "  - Value 3: Non-anginal pain\n",
    "  - Value 4: Asymptomatic\n",
    "- trtbps : Resting blood pressure (in mm Hg)\n",
    "- chol : Cholestoral in mg/dl fetched via BMI sensor\n",
    "- fbs : (Fasting blood sugar > 120 mg/dl) (1 = true; 0 = false)\n",
    "- restecg : Resting electrocardiographic results\n",
    "  - Value 0: Normal\n",
    "  - Value 1: Having ST-T wave abnormality (T wave inversions and/or ST elevation or depression of > 0.05 mV)\n",
    "  - Value 2: Showing probable or definite left ventricular hypertrophy by Estes' criteria\n",
    "- thalachh : Maximum heart rate achieved\n",
    "- exng : Exercise induced angina (1 = yes; 0 = no)\n",
    "- oldpeak : Previous peak\n",
    "- slp : Slope\n",
    "- caa : Number of major vessels (0-3)\n",
    "- thall : Thal rate\n",
    "- output : (0 = less chance of heart attack; 1 = more chance of heart attack)"
   ]
  },
  {
   "cell_type": "markdown",
   "id": "e02b38e2",
   "metadata": {},
   "source": [
    "## Data Analysis"
   ]
  },
  {
   "cell_type": "code",
   "execution_count": 9,
   "id": "f172f424",
   "metadata": {},
   "outputs": [
    {
     "data": {
      "text/plain": [
       "(303, 14)"
      ]
     },
     "execution_count": 9,
     "metadata": {},
     "output_type": "execute_result"
    }
   ],
   "source": [
    "data.shape"
   ]
  },
  {
   "cell_type": "markdown",
   "id": "414769d6",
   "metadata": {},
   "source": [
    "I'll check for missing data:"
   ]
  },
  {
   "cell_type": "code",
   "execution_count": 10,
   "id": "260c3ea7",
   "metadata": {},
   "outputs": [
    {
     "name": "stdout",
     "output_type": "stream",
     "text": [
      "<class 'pandas.core.frame.DataFrame'>\n",
      "RangeIndex: 303 entries, 0 to 302\n",
      "Data columns (total 14 columns):\n",
      " #   Column    Non-Null Count  Dtype  \n",
      "---  ------    --------------  -----  \n",
      " 0   age       303 non-null    int64  \n",
      " 1   sex       303 non-null    int64  \n",
      " 2   cp        303 non-null    int64  \n",
      " 3   trtbps    303 non-null    int64  \n",
      " 4   chol      303 non-null    int64  \n",
      " 5   fbs       303 non-null    int64  \n",
      " 6   restecg   303 non-null    int64  \n",
      " 7   thalachh  303 non-null    int64  \n",
      " 8   exng      303 non-null    int64  \n",
      " 9   oldpeak   303 non-null    float64\n",
      " 10  slp       303 non-null    int64  \n",
      " 11  caa       303 non-null    int64  \n",
      " 12  thall     303 non-null    int64  \n",
      " 13  output    303 non-null    int64  \n",
      "dtypes: float64(1), int64(13)\n",
      "memory usage: 33.3 KB\n"
     ]
    }
   ],
   "source": [
    "data.info()"
   ]
  },
  {
   "cell_type": "markdown",
   "id": "7072fdb7",
   "metadata": {},
   "source": [
    "There is no missing data. I'll proceed with analysis."
   ]
  },
  {
   "cell_type": "code",
   "execution_count": 11,
   "id": "0c3d64d1",
   "metadata": {},
   "outputs": [
    {
     "data": {
      "text/html": [
       "<div>\n",
       "<style scoped>\n",
       "    .dataframe tbody tr th:only-of-type {\n",
       "        vertical-align: middle;\n",
       "    }\n",
       "\n",
       "    .dataframe tbody tr th {\n",
       "        vertical-align: top;\n",
       "    }\n",
       "\n",
       "    .dataframe thead th {\n",
       "        text-align: right;\n",
       "    }\n",
       "</style>\n",
       "<table border=\"1\" class=\"dataframe\">\n",
       "  <thead>\n",
       "    <tr style=\"text-align: right;\">\n",
       "      <th></th>\n",
       "      <th>count</th>\n",
       "      <th>mean</th>\n",
       "      <th>std</th>\n",
       "      <th>min</th>\n",
       "      <th>25%</th>\n",
       "      <th>50%</th>\n",
       "      <th>75%</th>\n",
       "      <th>max</th>\n",
       "    </tr>\n",
       "  </thead>\n",
       "  <tbody>\n",
       "    <tr>\n",
       "      <th>age</th>\n",
       "      <td>303.0</td>\n",
       "      <td>54.366337</td>\n",
       "      <td>9.082101</td>\n",
       "      <td>29.0</td>\n",
       "      <td>47.5</td>\n",
       "      <td>55.0</td>\n",
       "      <td>61.0</td>\n",
       "      <td>77.0</td>\n",
       "    </tr>\n",
       "    <tr>\n",
       "      <th>sex</th>\n",
       "      <td>303.0</td>\n",
       "      <td>0.683168</td>\n",
       "      <td>0.466011</td>\n",
       "      <td>0.0</td>\n",
       "      <td>0.0</td>\n",
       "      <td>1.0</td>\n",
       "      <td>1.0</td>\n",
       "      <td>1.0</td>\n",
       "    </tr>\n",
       "    <tr>\n",
       "      <th>cp</th>\n",
       "      <td>303.0</td>\n",
       "      <td>0.966997</td>\n",
       "      <td>1.032052</td>\n",
       "      <td>0.0</td>\n",
       "      <td>0.0</td>\n",
       "      <td>1.0</td>\n",
       "      <td>2.0</td>\n",
       "      <td>3.0</td>\n",
       "    </tr>\n",
       "    <tr>\n",
       "      <th>trtbps</th>\n",
       "      <td>303.0</td>\n",
       "      <td>131.623762</td>\n",
       "      <td>17.538143</td>\n",
       "      <td>94.0</td>\n",
       "      <td>120.0</td>\n",
       "      <td>130.0</td>\n",
       "      <td>140.0</td>\n",
       "      <td>200.0</td>\n",
       "    </tr>\n",
       "    <tr>\n",
       "      <th>chol</th>\n",
       "      <td>303.0</td>\n",
       "      <td>246.264026</td>\n",
       "      <td>51.830751</td>\n",
       "      <td>126.0</td>\n",
       "      <td>211.0</td>\n",
       "      <td>240.0</td>\n",
       "      <td>274.5</td>\n",
       "      <td>564.0</td>\n",
       "    </tr>\n",
       "    <tr>\n",
       "      <th>fbs</th>\n",
       "      <td>303.0</td>\n",
       "      <td>0.148515</td>\n",
       "      <td>0.356198</td>\n",
       "      <td>0.0</td>\n",
       "      <td>0.0</td>\n",
       "      <td>0.0</td>\n",
       "      <td>0.0</td>\n",
       "      <td>1.0</td>\n",
       "    </tr>\n",
       "    <tr>\n",
       "      <th>restecg</th>\n",
       "      <td>303.0</td>\n",
       "      <td>0.528053</td>\n",
       "      <td>0.525860</td>\n",
       "      <td>0.0</td>\n",
       "      <td>0.0</td>\n",
       "      <td>1.0</td>\n",
       "      <td>1.0</td>\n",
       "      <td>2.0</td>\n",
       "    </tr>\n",
       "    <tr>\n",
       "      <th>thalachh</th>\n",
       "      <td>303.0</td>\n",
       "      <td>149.646865</td>\n",
       "      <td>22.905161</td>\n",
       "      <td>71.0</td>\n",
       "      <td>133.5</td>\n",
       "      <td>153.0</td>\n",
       "      <td>166.0</td>\n",
       "      <td>202.0</td>\n",
       "    </tr>\n",
       "    <tr>\n",
       "      <th>exng</th>\n",
       "      <td>303.0</td>\n",
       "      <td>0.326733</td>\n",
       "      <td>0.469794</td>\n",
       "      <td>0.0</td>\n",
       "      <td>0.0</td>\n",
       "      <td>0.0</td>\n",
       "      <td>1.0</td>\n",
       "      <td>1.0</td>\n",
       "    </tr>\n",
       "    <tr>\n",
       "      <th>oldpeak</th>\n",
       "      <td>303.0</td>\n",
       "      <td>1.039604</td>\n",
       "      <td>1.161075</td>\n",
       "      <td>0.0</td>\n",
       "      <td>0.0</td>\n",
       "      <td>0.8</td>\n",
       "      <td>1.6</td>\n",
       "      <td>6.2</td>\n",
       "    </tr>\n",
       "    <tr>\n",
       "      <th>slp</th>\n",
       "      <td>303.0</td>\n",
       "      <td>1.399340</td>\n",
       "      <td>0.616226</td>\n",
       "      <td>0.0</td>\n",
       "      <td>1.0</td>\n",
       "      <td>1.0</td>\n",
       "      <td>2.0</td>\n",
       "      <td>2.0</td>\n",
       "    </tr>\n",
       "    <tr>\n",
       "      <th>caa</th>\n",
       "      <td>303.0</td>\n",
       "      <td>0.729373</td>\n",
       "      <td>1.022606</td>\n",
       "      <td>0.0</td>\n",
       "      <td>0.0</td>\n",
       "      <td>0.0</td>\n",
       "      <td>1.0</td>\n",
       "      <td>4.0</td>\n",
       "    </tr>\n",
       "    <tr>\n",
       "      <th>thall</th>\n",
       "      <td>303.0</td>\n",
       "      <td>2.313531</td>\n",
       "      <td>0.612277</td>\n",
       "      <td>0.0</td>\n",
       "      <td>2.0</td>\n",
       "      <td>2.0</td>\n",
       "      <td>3.0</td>\n",
       "      <td>3.0</td>\n",
       "    </tr>\n",
       "    <tr>\n",
       "      <th>output</th>\n",
       "      <td>303.0</td>\n",
       "      <td>0.544554</td>\n",
       "      <td>0.498835</td>\n",
       "      <td>0.0</td>\n",
       "      <td>0.0</td>\n",
       "      <td>1.0</td>\n",
       "      <td>1.0</td>\n",
       "      <td>1.0</td>\n",
       "    </tr>\n",
       "  </tbody>\n",
       "</table>\n",
       "</div>"
      ],
      "text/plain": [
       "          count        mean        std    min    25%    50%    75%    max\n",
       "age       303.0   54.366337   9.082101   29.0   47.5   55.0   61.0   77.0\n",
       "sex       303.0    0.683168   0.466011    0.0    0.0    1.0    1.0    1.0\n",
       "cp        303.0    0.966997   1.032052    0.0    0.0    1.0    2.0    3.0\n",
       "trtbps    303.0  131.623762  17.538143   94.0  120.0  130.0  140.0  200.0\n",
       "chol      303.0  246.264026  51.830751  126.0  211.0  240.0  274.5  564.0\n",
       "fbs       303.0    0.148515   0.356198    0.0    0.0    0.0    0.0    1.0\n",
       "restecg   303.0    0.528053   0.525860    0.0    0.0    1.0    1.0    2.0\n",
       "thalachh  303.0  149.646865  22.905161   71.0  133.5  153.0  166.0  202.0\n",
       "exng      303.0    0.326733   0.469794    0.0    0.0    0.0    1.0    1.0\n",
       "oldpeak   303.0    1.039604   1.161075    0.0    0.0    0.8    1.6    6.2\n",
       "slp       303.0    1.399340   0.616226    0.0    1.0    1.0    2.0    2.0\n",
       "caa       303.0    0.729373   1.022606    0.0    0.0    0.0    1.0    4.0\n",
       "thall     303.0    2.313531   0.612277    0.0    2.0    2.0    3.0    3.0\n",
       "output    303.0    0.544554   0.498835    0.0    0.0    1.0    1.0    1.0"
      ]
     },
     "execution_count": 11,
     "metadata": {},
     "output_type": "execute_result"
    }
   ],
   "source": [
    "data.describe().transpose()"
   ]
  },
  {
   "cell_type": "code",
   "execution_count": 12,
   "id": "f7a3b46f",
   "metadata": {},
   "outputs": [
    {
     "data": {
      "image/png": "[encoded data removed]",
      "text/plain": [
       "<Figure size 432x288 with 1 Axes>"
      ]
     },
     "metadata": {
      "needs_background": "light"
     },
     "output_type": "display_data"
    }
   ],
   "source": [
    "# Plot distributions of data\n",
    "data.plot.box()\n",
    "plt.xticks(rotation=45)\n",
    "plt.xlabel('Features')\n",
    "plt.ylabel('Values')\n",
    "plt.title('Distributions of the features in our data');"
   ]
  },
  {
   "cell_type": "code",
   "execution_count": 13,
   "id": "9e30493f",
   "metadata": {},
   "outputs": [
    {
     "data": {
      "image/png": "[encoded data removed]",
      "text/plain": [
       "<Figure size 1080x1080 with 16 Axes>"
      ]
     },
     "metadata": {
      "needs_background": "light"
     },
     "output_type": "display_data"
    }
   ],
   "source": [
    "data.hist(figsize=(15,15));"
   ]
  },
  {
   "cell_type": "markdown",
   "id": "098fc3d2",
   "metadata": {},
   "source": [
    "## Preprocessing"
   ]
  },
  {
   "cell_type": "markdown",
   "id": "32adaa2c",
   "metadata": {},
   "source": [
    "Something I observe is that the features are of different types. For instance, `chol`, a feature with continuous data, ranges between the values of 126 and 564; `slp`, a binary column, just falls into two classes, 0 and 1; `thall`, an ordinal columns ranges between 0 and 3. The data contains binary, ordinal and continuous data. \n",
    "\n",
    "I will visualize the distributions of the categorical data using countplots and normal distributions using histograms  \n",
    "\n",
    "Continuous Features:\n",
    "1. age\n",
    "2. trtbps\n",
    "3. chol\n",
    "4. thalachh\n",
    "5. oldpeak\n",
    "\n",
    "Categorical features(ordinal):\n",
    "1. sex\n",
    "2. cp\n",
    "3. fbs\n",
    "4. restecg\n",
    "5. exng\n",
    "6. slp\n",
    "7. caa\n",
    "8. thall\n",
    "9. output"
   ]
  },
  {
   "cell_type": "code",
   "execution_count": 14,
   "id": "e62af6a2",
   "metadata": {},
   "outputs": [],
   "source": [
    "from sklearn.model_selection import train_test_split\n",
    "\n",
    "X = data.drop(columns='output')\n",
    "y = data['output']\n",
    "\n",
    "X_train, X_test, y_train, y_test = train_test_split(X, y, random_state=32, test_size=0.25)"
   ]
  },
  {
   "cell_type": "code",
   "execution_count": 15,
   "id": "b51d3844",
   "metadata": {},
   "outputs": [],
   "source": [
    "# Identify columns by type\n",
    "cont_features = ['age', 'trtbps', 'chol', 'thalachh'] # continuous features\n",
    "# to_transform = ['oldpeak'] # just the one skewed distribution\n",
    "# bin_features = ['sex', 'fbs', 'exng'] # binary features\n",
    "# ord_features = ['cp', 'restecg', 'slp', 'caa', 'thall'] # ordinal features"
   ]
  },
  {
   "cell_type": "markdown",
   "id": "e6061a18",
   "metadata": {},
   "source": [
    "Some preprocessing steps to be carried out:\n",
    "- Scale continuous features\n",
    "- Apply log transformation on the `oldpeak` feature (to turn into from a skewed distribution to a normal distribution)\n",
    "- Remove outliers\n",
    "- Perform one hot encoding on ordinal features"
   ]
  },
  {
   "cell_type": "markdown",
   "id": "be4847d9",
   "metadata": {},
   "source": [
    "### Scaling Continuous Features"
   ]
  },
  {
   "cell_type": "code",
   "execution_count": 16,
   "id": "a6cc477f",
   "metadata": {},
   "outputs": [
    {
     "name": "stderr",
     "output_type": "stream",
     "text": [
      "<ipython-input-16-2d9f7fa50493>:5: SettingWithCopyWarning: \n",
      "A value is trying to be set on a copy of a slice from a DataFrame.\n",
      "Try using .loc[row_indexer,col_indexer] = value instead\n",
      "\n",
      "See the caveats in the documentation: https://pandas.pydata.org/pandas-docs/stable/user_guide/indexing.html#returning-a-view-versus-a-copy\n",
      "  X_train[cont_features] = ss.fit_transform(X_train[cont_features])\n",
      "/anaconda/envs/azureml_py38/lib/python3.8/site-packages/pandas/core/indexing.py:1738: SettingWithCopyWarning: \n",
      "A value is trying to be set on a copy of a slice from a DataFrame.\n",
      "Try using .loc[row_indexer,col_indexer] = value instead\n",
      "\n",
      "See the caveats in the documentation: https://pandas.pydata.org/pandas-docs/stable/user_guide/indexing.html#returning-a-view-versus-a-copy\n",
      "  self._setitem_single_column(loc, value[:, i].tolist(), pi)\n"
     ]
    }
   ],
   "source": [
    "from sklearn.preprocessing import StandardScaler\n",
    "\n",
    "ss = StandardScaler()\n",
    "\n",
    "X_train[cont_features] = ss.fit_transform(X_train[cont_features])"
   ]
  },
  {
   "cell_type": "code",
   "execution_count": 17,
   "id": "613ec109",
   "metadata": {},
   "outputs": [
    {
     "data": {
      "image/png": "[encoded data removed]",
      "text/plain": [
       "<Figure size 576x432 with 4 Axes>"
      ]
     },
     "metadata": {
      "needs_background": "light"
     },
     "output_type": "display_data"
    }
   ],
   "source": [
    "# Visualize transformed columns\n",
    "X_train[cont_features].hist(figsize=(8,6));"
   ]
  },
  {
   "cell_type": "markdown",
   "id": "617ea1b3",
   "metadata": {},
   "source": [
    "### Applying Log Transformation\n",
    "The [`sklearn.preprocessing.PowerTransformer`](https://scikit-learn.org/stable/modules/generated/sklearn.preprocessing.PowerTransformer.html) class can be used to convert a skewed distribution so it is as Gaussian-like as possible. In our data, the `oldpeak` column is the only skewed distribution, so we will only transform that column in this section."
   ]
  },
  {
   "cell_type": "code",
   "execution_count": 18,
   "id": "c9b9d435",
   "metadata": {},
   "outputs": [
    {
     "name": "stderr",
     "output_type": "stream",
     "text": [
      "<ipython-input-18-a2b79e03ab5c>:6: SettingWithCopyWarning: \n",
      "A value is trying to be set on a copy of a slice from a DataFrame.\n",
      "Try using .loc[row_indexer,col_indexer] = value instead\n",
      "\n",
      "See the caveats in the documentation: https://pandas.pydata.org/pandas-docs/stable/user_guide/indexing.html#returning-a-view-versus-a-copy\n",
      "  X_train['oldpeak'] = pt.fit_transform(X_train['oldpeak'].values.reshape(-1,1))\n"
     ]
    },
    {
     "data": {
      "image/png": "[encoded data removed]",
      "text/plain": [
       "<Figure size 432x288 with 1 Axes>"
      ]
     },
     "metadata": {
      "needs_background": "light"
     },
     "output_type": "display_data"
    }
   ],
   "source": [
    "from sklearn.preprocessing import PowerTransformer\n",
    "\n",
    "pt = PowerTransformer()\n",
    "\n",
    "# Fit and transform the skewed feature\n",
    "X_train['oldpeak'] = pt.fit_transform(X_train['oldpeak'].values.reshape(-1,1))\n",
    "cont_features.append('oldpeak') #append the oldpeak feauture to the list of continuous features\n",
    "\n",
    "# Plot the histogram\n",
    "X_train['oldpeak'].hist();"
   ]
  },
  {
   "cell_type": "code",
   "execution_count": 19,
   "id": "ab00e250",
   "metadata": {},
   "outputs": [
    {
     "data": {
      "image/png": "[encoded data removed]",
      "text/plain": [
       "<Figure size 432x288 with 1 Axes>"
      ]
     },
     "metadata": {
      "needs_background": "light"
     },
     "output_type": "display_data"
    }
   ],
   "source": [
    "X_train.plot.box();"
   ]
  },
  {
   "cell_type": "markdown",
   "id": "4539b04e",
   "metadata": {},
   "source": [
    "### Removing Outliers\n",
    "The strategy I'll use to remove outliers is to eliminate samples whose values are lower than or higher than 1% and 95% respectively for the continuous features.  \n",
    "Because I intend to add this transformer to my pipeline, I will simply just subclass the `TransformerMixin` class and build a custom transformer using an outlier detection algorithm. I found help with this [here](https://stackoverflow.com/a/52346726/16162645)."
   ]
  },
  {
   "cell_type": "code",
   "execution_count": 20,
   "id": "314aada4",
   "metadata": {},
   "outputs": [],
   "source": [
    "from sklearn.neighbors import LocalOutlierFactor\n",
    "# TODO"
   ]
  },
  {
   "cell_type": "markdown",
   "id": "960a90dd",
   "metadata": {},
   "source": [
    "## Fitting it all into a Pipeline"
   ]
  },
  {
   "cell_type": "code",
   "execution_count": 21,
   "id": "a9e035f7",
   "metadata": {},
   "outputs": [],
   "source": [
    "from sklearn.pipeline import Pipeline\n",
    "\n",
    "cont_pipeline = Pipeline([('scale',StandardScaler())])\n",
    "\n",
    "skewed_pipeline = Pipeline([('normalize', PowerTransformer())])"
   ]
  },
  {
   "cell_type": "code",
   "execution_count": 22,
   "id": "c4ee1803",
   "metadata": {},
   "outputs": [
    {
     "data": {
      "text/plain": [
       "9"
      ]
     },
     "execution_count": 22,
     "metadata": {},
     "output_type": "execute_result"
    }
   ],
   "source": [
    "list(X.columns).index('oldpeak')"
   ]
  },
  {
   "cell_type": "code",
   "execution_count": 23,
   "id": "90ff3a02",
   "metadata": {},
   "outputs": [],
   "source": [
    "from sklearn.compose import ColumnTransformer\n",
    "\n",
    "full_processor = ColumnTransformer(transformers=[\n",
    "    ('continuous', cont_pipeline, [0,3,4,7,9]),\n",
    "    ('skewed', skewed_pipeline, [9]) # 9 is the index of the oldpeak column\n",
    "], \n",
    "remainder='passthrough')"
   ]
  },
  {
   "cell_type": "markdown",
   "id": "60ef75aa",
   "metadata": {},
   "source": [
    "## Model Selection and Training\n",
    "I will use the following five different algorithms\n",
    "1. DecisionTreeClassifier\n",
    "2. RandomForestClassifier\n",
    "3. GradientBoostingClassifier\n",
    "4. SVM\n",
    "5. KNeighborClassifier"
   ]
  },
  {
   "cell_type": "code",
   "execution_count": 24,
   "id": "f472e4ab",
   "metadata": {},
   "outputs": [],
   "source": [
    "from sklearn.tree import DecisionTreeClassifier\n",
    "from sklearn.ensemble import RandomForestClassifier, GradientBoostingClassifier\n",
    "from sklearn.svm import SVC\n",
    "from sklearn.neighbors import KNeighborsClassifier"
   ]
  },
  {
   "cell_type": "code",
   "execution_count": 25,
   "id": "094a1df6",
   "metadata": {},
   "outputs": [],
   "source": [
    "# Decision Tree Pipeline\n",
    "dec_pipeline = Pipeline(steps=[\n",
    "    ('preprocess', full_processor),\n",
    "    ('model', DecisionTreeClassifier(random_state=32))\n",
    "])\n",
    "\n",
    "# Random Forest Pipeline\n",
    "rf_pipeline = Pipeline(steps=[\n",
    "    ('preprocess', full_processor),\n",
    "    ('model', RandomForestClassifier(random_state=32))\n",
    "])\n",
    "\n",
    "# Gradient Boost Pipeline\n",
    "gb_pipeline = Pipeline(steps=[\n",
    "    ('preprocess', full_processor),\n",
    "    ('model', GradientBoostingClassifier(random_state=32))\n",
    "])\n",
    "\n",
    "# K nearest neighbor Pipeline\n",
    "knn_pipeline = Pipeline(steps=[\n",
    "    ('preprocess', full_processor),\n",
    "    ('model', KNeighborsClassifier())\n",
    "])\n",
    "\n",
    "# SVC Pipeline\n",
    "svc_pipeline = Pipeline(steps=[\n",
    "    ('preprocess', full_processor),\n",
    "    ('model', SVC(random_state=32))\n",
    "])"
   ]
  },
  {
   "cell_type": "code",
   "execution_count": 26,
   "id": "9ee7ec84",
   "metadata": {},
   "outputs": [
    {
     "data": {
      "text/plain": [
       "Pipeline(memory=None,\n",
       "         steps=[('preprocess',\n",
       "                 ColumnTransformer(n_jobs=None, remainder='passthrough',\n",
       "                                   sparse_threshold=0.3,\n",
       "                                   transformer_weights=None,\n",
       "                                   transformers=[('continuous',\n",
       "                                                  Pipeline(memory=None,\n",
       "                                                           steps=[('scale',\n",
       "                                                                   StandardScaler(copy=True,\n",
       "                                                                                  with_mean=True,\n",
       "                                                                                  with_std=True))],\n",
       "                                                           verbose=False),\n",
       "                                                  [0, 3, 4, 7, 9]),\n",
       "                                                 ('skewed',\n",
       "                                                  Pipeline(memory=None,\n",
       "                                                           steps=[('normalize',\n",
       "                                                                   PowerTransformer(copy=True,\n",
       "                                                                                    method='yeo-johnson',\n",
       "                                                                                    standardize=True))],\n",
       "                                                           verbose=False),\n",
       "                                                  [9])],\n",
       "                                   verbose=False)),\n",
       "                ('model',\n",
       "                 SVC(C=1.0, break_ties=False, cache_size=200, class_weight=None,\n",
       "                     coef0=0.0, decision_function_shape='ovr', degree=3,\n",
       "                     gamma='scale', kernel='rbf', max_iter=-1,\n",
       "                     probability=False, random_state=32, shrinking=True,\n",
       "                     tol=0.001, verbose=False))],\n",
       "         verbose=False)"
      ]
     },
     "execution_count": 26,
     "metadata": {},
     "output_type": "execute_result"
    }
   ],
   "source": [
    "# Train the models\n",
    "dec_pipeline.fit(X_train, y_train)\n",
    "rf_pipeline.fit(X_train, y_train)\n",
    "gb_pipeline.fit(X_train, y_train)\n",
    "knn_pipeline.fit(X_train, y_train)\n",
    "svc_pipeline.fit(X_train, y_train)"
   ]
  },
  {
   "cell_type": "markdown",
   "id": "54c25a0b",
   "metadata": {},
   "source": [
    "## Model Evaluation\n",
    "I will evaluate the **precision** of each algorithm and select the model that performs best without hyperparameter tuning."
   ]
  },
  {
   "cell_type": "code",
   "execution_count": 27,
   "id": "31af8deb",
   "metadata": {},
   "outputs": [
    {
     "name": "stdout",
     "output_type": "stream",
     "text": [
      "Algorithm                Precision Score\n",
      "\n",
      "Decision Tree                       0.80\n",
      "Random Forest                       0.81\n",
      "Gradient Boost                      0.88\n",
      "SVC                                 0.51\n",
      "K Nearest Neighbor                  0.51\n"
     ]
    }
   ],
   "source": [
    "from sklearn.metrics import precision_score\n",
    "\n",
    "algorithms = {'Decision Tree' : dec_pipeline,\n",
    "              'Random Forest' : rf_pipeline,\n",
    "              'Gradient Boost' : gb_pipeline,\n",
    "              'SVC' : svc_pipeline,\n",
    "              'K Nearest Neighbor' : knn_pipeline\n",
    "             }\n",
    "\n",
    "print(f\"{'Algorithm':<20}{'Precision Score':>20}\\n\")\n",
    "for name,algorithm in algorithms.items():\n",
    "    print(f'{name:<20}{precision_score(y_test, algorithm.predict(X_test)):>20.2f}')"
   ]
  },
  {
   "cell_type": "markdown",
   "id": "83cdcdc2",
   "metadata": {},
   "source": [
    "## Model Optimization"
   ]
  },
  {
   "cell_type": "code",
   "execution_count": 29,
   "id": "adb5ca2c",
   "metadata": {},
   "outputs": [],
   "source": [
    "from sklearn.model_selection import GridSearchCV\n",
    "# TODO"
   ]
  },
  {
   "cell_type": "markdown",
   "id": "405d6f50",
   "metadata": {},
   "source": [
    "## Conclusion"
   ]
  },
  {
   "cell_type": "code",
   "execution_count": 30,
   "id": "0d85a21a",
   "metadata": {},
   "outputs": [
    {
     "data": {
      "text/plain": [
       "['/mnt/batch/tasks/shared/LS_root/mounts/clusters/ml-course/code/Users/heart-attack/models/gb-model.pkl']"
      ]
     },
     "execution_count": 30,
     "metadata": {},
     "output_type": "execute_result"
    }
   ],
   "source": [
    "import joblib\n",
    "from os import path, getcwd\n",
    "\n",
    "file_path = path.dirname(os.getcwd()) + '/models/gb-model.pkl'\n",
    "\n",
    "joblib.dump(gb_pipeline, file_path) "
   ]
  }
 ],
 "metadata": {
  "kernelspec": {
   "display_name": "Python 3.8 - AzureML",
   "language": "python",
   "name": "python38-azureml"
  },
  "language_info": {
   "codemirror_mode": {
    "name": "ipython",
    "version": 3
   },
   "file_extension": ".py",
   "mimetype": "text/x-python",
   "name": "python",
   "nbconvert_exporter": "python",
   "pygments_lexer": "ipython3",
   "version": "3.8.1"
  }
 },
 "nbformat": 4,
 "nbformat_minor": 5
}
